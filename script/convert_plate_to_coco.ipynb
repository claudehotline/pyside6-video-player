{
 "cells": [
  {
   "cell_type": "code",
   "execution_count": 2,
   "metadata": {},
   "outputs": [],
   "source": [
    "import os\n",
    "import cv2\n",
    "import numpy as np\n",
    "from tqdm import tqdm\n",
    "from pybaseutils import file_utils, image_utils\n",
    "import time\n",
    "import json"
   ]
  },
  {
   "cell_type": "code",
   "execution_count": 36,
   "metadata": {},
   "outputs": [],
   "source": [
    "def get_plate_licenses(plate):\n",
    "    \"\"\"\n",
    "    普通蓝牌共有7位字符；新能源车牌有8位字符： https://baike.baidu.com/item/%E8%BD%A6%E7%89%8C/8347320?fr=aladdin\n",
    "    《新能源电动汽车牌照和普通牌照区别介绍》https://www.yoojia.com/ask/4-11906976349117851507.html\n",
    "    新能源汽车车牌可分为三部分：省份简称(1位汉字)十地方行政区代号(1位字母)十序号(6位)\n",
    "    字母“D”代表纯电动汽车；\n",
    "    字母“F”代表非纯电动汽车(包括插电式混合动力和燃料电池汽车等)。\n",
    "    :param plate:\n",
    "    :return:\n",
    "    \"\"\"\n",
    "    provinces = [\"皖\", \"沪\", \"津\", \"渝\", \"冀\", \"晋\", \"蒙\", \"辽\", \"吉\", \"黑\", \"苏\", \"浙\", \"京\", \"闽\", \"赣\", \"鲁\", \"豫\", \"鄂\", \"湘\", \"粤\",\n",
    "                 \"桂\", \"琼\", \"川\", \"贵\", \"云\", \"藏\", \"陕\", \"甘\", \"青\", \"宁\", \"新\", \"警\", \"学\", \"O\"]\n",
    "    alphabets = ['A', 'B', 'C', 'D', 'E', 'F', 'G', 'H', 'J', 'K', 'L', 'M', 'N', 'P', 'Q', 'R', 'S', 'T', 'U', 'V',\n",
    "                 'W', 'X', 'Y', 'Z', 'O']\n",
    "    ads = ['A', 'B', 'C', 'D', 'E', 'F', 'G', 'H', 'J', 'K', 'L', 'M', 'N', 'P', 'Q', 'R', 'S', 'T', 'U', 'V', 'W', 'X',\n",
    "           'Y', 'Z', '0', '1', '2', '3', '4', '5', '6', '7', '8', '9', 'O']\n",
    "    result = [provinces[int(plate[0])], alphabets[int(plate[1])]]\n",
    "    result += [ads[int(p)] for p in plate[2:]]\n",
    "    result = \"\".join(result)\n",
    "    # 新能源车牌的要求，如果不是新能源车牌可以删掉这个if\n",
    "    # if result[2] != 'D' and result[2] != 'F' \\\n",
    "    #         and result[-1] != 'D' and result[-1] != 'F':\n",
    "    #     # print(plate)\n",
    "    #     print(\"Error label, Please check!\")\n",
    "    # print(plate, result)\n",
    "    return result"
   ]
  },
  {
   "cell_type": "code",
   "execution_count": 3,
   "metadata": {},
   "outputs": [],
   "source": [
    "def parser_annotations(image_file):\n",
    "    \"\"\"\n",
    "    :param image_file: 图片路径\n",
    "    :return: 返回标注信息info\n",
    "    \"\"\"\n",
    "    filename = os.path.basename(image_file)\n",
    "    try:\n",
    "        annotations = filename.split(\"-\")\n",
    "        rate = annotations[0]  # 车牌区域占整个画面的比例；\n",
    "        angle = annotations[1].split(\"_\")  # 车牌水平和垂直角度, 水平95°, 竖直113°\n",
    "        box = annotations[2].replace(\"&\", \"_\").split(\"_\")  # 标注框左上、右下坐标，左上(154, 383), 右下(386, 473)\n",
    "        point = annotations[3].replace(\"&\", \"_\").split(\"_\")  # 标注框四个角点坐标，顺序为右下、左下、左上、右上\n",
    "        plate = annotations[4].split(\"_\")  # licenses 标注框四个角点坐标，顺序为右下、左下、左上、右上\n",
    "        # print('plate = ', plate)\n",
    "        plate = get_plate_licenses(plate)\n",
    "        box = [int(b) for b in box]\n",
    "        point = [int(b) for b in point]\n",
    "        point = np.asarray(point).reshape(-1, 2)\n",
    "        bboxes = [box]\n",
    "        angles = [angle]\n",
    "        points = [point]\n",
    "        plates = [plate]\n",
    "        labels = [\"plate\"] * len(bboxes)\n",
    "    except Exception as e:\n",
    "        bboxes = []\n",
    "        points = []\n",
    "        labels = []\n",
    "        plates = []\n",
    "        angles = []\n",
    "    info = {\"filename\": filename, \"bboxes\": bboxes, \"points\": points,\n",
    "            \"labels\": labels, \"plates\": plates, \"angles\": angles}\n",
    "    return info"
   ]
  },
  {
   "cell_type": "code",
   "execution_count": 32,
   "metadata": {},
   "outputs": [],
   "source": [
    "def save_plate_licenses(image, bboxes, plates, out_dir, name=\"\"):\n",
    "    crops = image_utils.get_bboxes_crop(image, bboxes)\n",
    "    for i in range(len(crops)):\n",
    "        label = plates[i]\n",
    "        # print(label)\n",
    "        image_id = file_utils.get_time(format=\"p\")\n",
    "        # 获取当前的时间\n",
    "        file = os.path.join(out_dir, \"{}_{:0=3d}_{}.jpg\".format(label, i, image_id))\n",
    "        file_utils.create_file_path(file)\n",
    "        cv2.imencode('.jpg', crops[i])[1].tofile(file)"
   ]
  },
  {
   "cell_type": "code",
   "execution_count": 18,
   "metadata": {},
   "outputs": [
    {
     "name": "stdout",
     "output_type": "stream",
     "text": [
      "{'filename': '01-90_265-231&522_405&574-405&571_235&574_231&523_403&522-0_0_3_1_28_29_30_30-134-56.jpg', 'bboxes': [[231, 522, 405, 574]], 'points': [array([[405, 571],\n",
      "       [235, 574],\n",
      "       [231, 523],\n",
      "       [403, 522]])], 'labels': ['plate'], 'plates': ['皖ADB4566'], 'angles': [['90', '265']]}\n"
     ]
    }
   ],
   "source": [
    "img_path = 'F:/CCPD2020/ccpd_green/test/01-90_265-231&522_405&574-405&571_235&574_231&523_403&522-0_0_3_1_28_29_30_30-134-56.jpg'\n",
    "img_info = parser_annotations(img_path)\n",
    "print(img_info)"
   ]
  },
  {
   "cell_type": "code",
   "execution_count": 28,
   "metadata": {},
   "outputs": [
    {
     "name": "stdout",
     "output_type": "stream",
     "text": [
      "皖ADB4566\n"
     ]
    }
   ],
   "source": [
    "save_plate_licenses(cv2.imread(img_path), img_info['bboxes'], img_info['plates'], 'plates')"
   ]
  },
  {
   "attachments": {},
   "cell_type": "markdown",
   "metadata": {},
   "source": [
    "# 获取车牌图片"
   ]
  },
  {
   "cell_type": "code",
   "execution_count": 34,
   "metadata": {},
   "outputs": [
    {
     "name": "stderr",
     "output_type": "stream",
     "text": [
      "100%|██████████| 5006/5006 [03:38<00:00, 22.93it/s]\n"
     ]
    }
   ],
   "source": [
    "# 读取F:\\CCPD2020\\ccpd_green\\train目录下的所有图片\n",
    "img_dir = 'F:/CCPD2020/ccpd_green/test'\n",
    "img_list = file_utils.get_all_files(img_dir)\n",
    "for img in tqdm(img_list):\n",
    "    img_info = parser_annotations(img)\n",
    "    save_path = 'F:/CCPD2020/ccpd_green_plate/test'\n",
    "    save_plate_licenses(cv2.imread(img), img_info['bboxes'], img_info['plates'], save_path)"
   ]
  },
  {
   "cell_type": "code",
   "execution_count": 37,
   "metadata": {},
   "outputs": [
    {
     "name": "stderr",
     "output_type": "stream",
     "text": [
      "100%|██████████| 100000/100000 [1:58:44<00:00, 14.04it/s]  \n"
     ]
    }
   ],
   "source": [
    "# 读取F:\\CCPD2019\\splits\\train.txt 文件\n",
    "with open('F:/CCPD2019/splits/train.txt', 'r') as f:\n",
    "    lines = f.readlines()\n",
    "    for line in tqdm(lines):\n",
    "        line = line.strip()\n",
    "        img_path = os.path.join('F:/CCPD2019/', line)\n",
    "        img_info = parser_annotations(img_path)\n",
    "        save_path = 'F:/CCPD2019/ccpd_plate/train'\n",
    "        save_plate_licenses(cv2.imread(img_path), img_info['bboxes'], img_info['plates'], save_path)"
   ]
  },
  {
   "cell_type": "code",
   "execution_count": 38,
   "metadata": {},
   "outputs": [
    {
     "name": "stderr",
     "output_type": "stream",
     "text": [
      "100%|██████████| 99996/99996 [1:13:45<00:00, 22.60it/s]  \n"
     ]
    }
   ],
   "source": [
    "# 读取F:\\CCPD2019\\splits\\val.txt 文件\n",
    "with open('F:/CCPD2019/splits/val.txt', 'r') as f:\n",
    "    lines = f.readlines()\n",
    "    for line in tqdm(lines):\n",
    "        line = line.strip()\n",
    "        img_path = os.path.join('F:/CCPD2019/', line)\n",
    "        img_info = parser_annotations(img_path)\n",
    "        save_path = 'F:/CCPD2019/ccpd_plate/val'\n",
    "        save_plate_licenses(cv2.imread(img_path), img_info['bboxes'], img_info['plates'], save_path)"
   ]
  },
  {
   "cell_type": "code",
   "execution_count": 39,
   "metadata": {},
   "outputs": [
    {
     "name": "stderr",
     "output_type": "stream",
     "text": [
      "100%|██████████| 141982/141982 [49:37<00:00, 47.69it/s]  \n"
     ]
    }
   ],
   "source": [
    "# 读取F:\\CCPD2019\\splits\\val.txt 文件\n",
    "with open('F:/CCPD2019/splits/test.txt', 'r') as f:\n",
    "    lines = f.readlines()\n",
    "    for line in tqdm(lines):\n",
    "        line = line.strip()\n",
    "        img_path = os.path.join('F:/CCPD2019/', line)\n",
    "        img_info = parser_annotations(img_path)\n",
    "        save_path = 'F:/CCPD2019/ccpd_plate/test'\n",
    "        save_plate_licenses(cv2.imread(img_path), img_info['bboxes'], img_info['plates'], save_path)"
   ]
  },
  {
   "attachments": {},
   "cell_type": "markdown",
   "metadata": {},
   "source": [
    "# 生成车牌识别标签"
   ]
  },
  {
   "cell_type": "code",
   "execution_count": 46,
   "metadata": {},
   "outputs": [
    {
     "name": "stderr",
     "output_type": "stream",
     "text": [
      "100%|██████████| 100000/100000 [00:02<00:00, 41753.70it/s]\n"
     ]
    }
   ],
   "source": [
    "# 读取F:\\CCPD2019\\ccpd_plate_imgs\\train目录下的所有图片\n",
    "img_dir = 'F:/CCPD2019/ccpd_plate_imgs/train'\n",
    "img_list = file_utils.get_all_files(img_dir)\n",
    "train_json = {}\n",
    "metainfo = {}\n",
    "data_list = []\n",
    "metainfo['dataset_type'] = 'TextRecogDataset'\n",
    "metainfo['task_name'] = 'textrecog'\n",
    "for img_path in tqdm(img_list):\n",
    "    text = os.path.basename(img_path).split('_')[0]\n",
    "    # img_path = img\n",
    "    data_list.append(\n",
    "            {\n",
    "                'instances': [{\"text\": text}],\n",
    "                'img_path': img_path\n",
    "            }\n",
    "        )\n",
    "train_json['metainfo'] = metainfo\n",
    "train_json['data_list'] = data_list\n",
    "with open('F:/CCPD2019/textrecog_train.json', \"w\") as f:\n",
    "    json.dump(train_json, f, ensure_ascii=False)"
   ]
  },
  {
   "cell_type": "code",
   "execution_count": 47,
   "metadata": {},
   "outputs": [
    {
     "name": "stderr",
     "output_type": "stream",
     "text": [
      "100%|██████████| 99996/99996 [00:01<00:00, 61763.66it/s]\n"
     ]
    }
   ],
   "source": [
    "# 读取F:\\CCPD2019\\ccpd_plate_imgs\\val目录下的所有图片\n",
    "img_dir = 'F:/CCPD2019/ccpd_plate_imgs/val'\n",
    "img_list = file_utils.get_all_files(img_dir)\n",
    "train_json = {}\n",
    "metainfo = {}\n",
    "data_list = []\n",
    "metainfo['dataset_type'] = 'TextRecogDataset'\n",
    "metainfo['task_name'] = 'textrecog'\n",
    "for img_path in tqdm(img_list):\n",
    "    text = os.path.basename(img_path).split('_')[0]\n",
    "    # img_path = img\n",
    "    data_list.append(\n",
    "            {\n",
    "                'instances': [{\"text\": text}],\n",
    "                'img_path': img_path\n",
    "            }\n",
    "        )\n",
    "train_json['metainfo'] = metainfo\n",
    "train_json['data_list'] = data_list\n",
    "with open('F:/CCPD2019/textrecog_val.json', \"w\") as f:\n",
    "    json.dump(train_json, f, ensure_ascii=False)"
   ]
  },
  {
   "cell_type": "code",
   "execution_count": 48,
   "metadata": {},
   "outputs": [
    {
     "name": "stderr",
     "output_type": "stream",
     "text": [
      "100%|██████████| 141982/141982 [00:02<00:00, 59656.35it/s]\n"
     ]
    }
   ],
   "source": [
    "# 读取F:\\CCPD2019\\ccpd_plate_imgs\\test目录下的所有图片\n",
    "img_dir = 'F:/CCPD2019/ccpd_plate_imgs/test'\n",
    "img_list = file_utils.get_all_files(img_dir)\n",
    "train_json = {}\n",
    "metainfo = {}\n",
    "data_list = []\n",
    "metainfo['dataset_type'] = 'TextRecogDataset'\n",
    "metainfo['task_name'] = 'textrecog'\n",
    "for img_path in tqdm(img_list):\n",
    "    text = os.path.basename(img_path).split('_')[0]\n",
    "    # img_path = img\n",
    "    data_list.append(\n",
    "            {\n",
    "                'instances': [{\"text\": text}],\n",
    "                'img_path': img_path\n",
    "            }\n",
    "        )\n",
    "train_json['metainfo'] = metainfo\n",
    "train_json['data_list'] = data_list\n",
    "with open('F:/CCPD2019/textrecog_test.json', \"w\") as f:\n",
    "    json.dump(train_json, f, ensure_ascii=False)"
   ]
  },
  {
   "cell_type": "code",
   "execution_count": 3,
   "metadata": {},
   "outputs": [
    {
     "name": "stderr",
     "output_type": "stream",
     "text": [
      "100%|██████████| 5769/5769 [00:00<00:00, 58865.31it/s]\n"
     ]
    }
   ],
   "source": [
    "# 读取F:\\CCPD2020\\ccpd_green_plate\\train目录下的所有图片\n",
    "img_dir = 'F:/CCPD2020/ccpd_green_plate/train'\n",
    "img_list = file_utils.get_all_files(img_dir)\n",
    "train_json = {}\n",
    "metainfo = {}\n",
    "data_list = []\n",
    "metainfo['dataset_type'] = 'TextRecogDataset'\n",
    "metainfo['task_name'] = 'textrecog'\n",
    "for img_path in tqdm(img_list):\n",
    "    text = os.path.basename(img_path).split('_')[0]\n",
    "    # img_path = img\n",
    "    data_list.append(\n",
    "            {\n",
    "                'instances': [{\"text\": text}],\n",
    "                'img_path': img_path\n",
    "            }\n",
    "        )\n",
    "train_json['metainfo'] = metainfo\n",
    "train_json['data_list'] = data_list\n",
    "with open('F:/CCPD2020/textrecog_train.json', \"w\") as f:\n",
    "    json.dump(train_json, f, ensure_ascii=False)"
   ]
  },
  {
   "cell_type": "code",
   "execution_count": 4,
   "metadata": {},
   "outputs": [
    {
     "name": "stderr",
     "output_type": "stream",
     "text": [
      "100%|██████████| 1001/1001 [00:00<00:00, 50047.66it/s]\n"
     ]
    }
   ],
   "source": [
    "# 读取F:\\CCPD2020\\ccpd_green_plate\\val目录下的所有图片\n",
    "img_dir = 'F:/CCPD2020/ccpd_green_plate/val'\n",
    "img_list = file_utils.get_all_files(img_dir)\n",
    "train_json = {}\n",
    "metainfo = {}\n",
    "data_list = []\n",
    "metainfo['dataset_type'] = 'TextRecogDataset'\n",
    "metainfo['task_name'] = 'textrecog'\n",
    "for img_path in tqdm(img_list):\n",
    "    text = os.path.basename(img_path).split('_')[0]\n",
    "    # img_path = img\n",
    "    data_list.append(\n",
    "            {\n",
    "                'instances': [{\"text\": text}],\n",
    "                'img_path': img_path\n",
    "            }\n",
    "        )\n",
    "train_json['metainfo'] = metainfo\n",
    "train_json['data_list'] = data_list\n",
    "with open('F:/CCPD2020/textrecog_val.json', \"w\") as f:\n",
    "    json.dump(train_json, f, ensure_ascii=False)"
   ]
  },
  {
   "cell_type": "code",
   "execution_count": null,
   "metadata": {},
   "outputs": [],
   "source": [
    "# 读取F:\\CCPD2020\\ccpd_green_plate\\test目录下的所有图片\n",
    "img_dir = 'F:/CCPD2020/ccpd_green_plate/test'\n",
    "img_list = file_utils.get_all_files(img_dir)\n",
    "train_json = {}\n",
    "metainfo = {}\n",
    "data_list = []\n",
    "metainfo['dataset_type'] = 'TextRecogDataset'\n",
    "metainfo['task_name'] = 'textrecog'\n",
    "for img_path in tqdm(img_list):\n",
    "    text = os.path.basename(img_path).split('_')[0]\n",
    "    # img_path = img\n",
    "    data_list.append(\n",
    "            {\n",
    "                'instances': [{\"text\": text}],\n",
    "                'img_path': img_path\n",
    "            }\n",
    "        )\n",
    "train_json['metainfo'] = metainfo\n",
    "train_json['data_list'] = data_list\n",
    "with open('F:/CCPD2020/textrecog_test.json', \"w\") as f:\n",
    "    json.dump(train_json, f, ensure_ascii=False)"
   ]
  },
  {
   "cell_type": "code",
   "execution_count": 12,
   "metadata": {},
   "outputs": [],
   "source": [
    "import json\n",
    "# 读取 ccpd_green/train 目录下的所有图片\n",
    "# 利用 parser_annotations 函数解析图片文件名，得到标注信息\n",
    "def ccpd2coco(image_dir):\n",
    "    # 获取image_dir目录下的所有文件的文件名\n",
    "    image_files = os.listdir(image_dir)\n",
    "    annotations = []\n",
    "    for image_file in tqdm(image_files):\n",
    "        info = parser_annotations(image_file)\n",
    "        annotations.append(info)\n",
    "    # return annotations\n",
    "    #转换为coco格式\n",
    "    coco = convert_annotations(annotations, image_dir)\n",
    "    # 保存为json文件\n",
    "    # 文件名为 image_dir / 后的文件名\n",
    "    with open(os.path.join(image_dir.split(\"/\")[1] + \".json\"), \"w\") as f:\n",
    "        json.dump(coco, f)\n",
    "    # return coco\n",
    "def convert_annotations(annotations, image_dir):\n",
    "    coco = {\"images\": [], \"annotations\": [], \"categories\": []}\n",
    "\n",
    "    categories = {\"supercategory\": \"none\", \"id\": 1, \"name\": \"plate\"}\n",
    "    coco[\"categories\"].append(categories)\n",
    "    img_id = 1\n",
    "    for i, info in enumerate(annotations):\n",
    "        print(i)\n",
    "        filename = info[\"filename\"]\n",
    "        img = cv2.imread(os.path.join(image_dir, filename))\n",
    "        image = {\n",
    "            \"file_name\": filename, \n",
    "            \"height\": img.shape[0], \n",
    "            \"width\": img.shape[1], \n",
    "            \"id\": img_id\n",
    "        }\n",
    "        coco[\"images\"].append(image)\n",
    "        \n",
    "        bboxes = info[\"bboxes\"]\n",
    "        for j in range(len(bboxes)):\n",
    "            bbox = bboxes[j]\n",
    "            annotation_id = file_utils.get_time(format=\"p\")\n",
    "            x1, y1, x2, y2 = bbox\n",
    "            h = y2 - y1\n",
    "            w = x2 - x1\n",
    "            annotation = {\n",
    "                \"id\": annotation_id,\n",
    "                \"segmentation\": [], \n",
    "                \"iscrowd\": 0, \n",
    "                \"image_id\": img_id,\n",
    "                \"bbox\": [x1, y1, w, h], \n",
    "                \"area\": w * h,\n",
    "                \"category_id\": 1, \n",
    "                \n",
    "            }\n",
    "            coco[\"annotations\"].append(annotation)\n",
    "        img_id += 1\n",
    "    return coco"
   ]
  },
  {
   "cell_type": "code",
   "execution_count": null,
   "metadata": {},
   "outputs": [],
   "source": [
    "ccpd2coco('ccpd_green/train')\n",
    "ccpd2coco('ccpd_green/val')"
   ]
  },
  {
   "cell_type": "code",
   "execution_count": null,
   "metadata": {},
   "outputs": [],
   "source": []
  }
 ],
 "metadata": {
  "kernelspec": {
   "display_name": "pyside6",
   "language": "python",
   "name": "python3"
  },
  "language_info": {
   "codemirror_mode": {
    "name": "ipython",
    "version": 3
   },
   "file_extension": ".py",
   "mimetype": "text/x-python",
   "name": "python",
   "nbconvert_exporter": "python",
   "pygments_lexer": "ipython3",
   "version": "3.8.16"
  },
  "orig_nbformat": 4
 },
 "nbformat": 4,
 "nbformat_minor": 2
}
