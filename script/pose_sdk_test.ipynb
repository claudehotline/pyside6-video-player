{
 "cells": [
  {
   "cell_type": "code",
   "execution_count": 1,
   "metadata": {},
   "outputs": [
    {
     "data": {
      "text/plain": [
       "<AddedDllDirectory('D:/onnxruntime-win-x64-1.8.1/lib')>"
      ]
     },
     "execution_count": 1,
     "metadata": {},
     "output_type": "execute_result"
    }
   ],
   "source": [
    "import os\n",
    "import torch\n",
    "import sys\n",
    "\n",
    "sys.path.append('I:/mmdeploy/build/bin/Release')\n",
    "os.add_dll_directory('D:/opencv/build/x64/vc16/bin')\n",
    "os.add_dll_directory('D:/onnxruntime-win-x64-1.8.1/lib')"
   ]
  },
  {
   "cell_type": "code",
   "execution_count": 2,
   "metadata": {},
   "outputs": [],
   "source": [
    "from mmdeploy_python import Detector, PoseDetector"
   ]
  },
  {
   "attachments": {},
   "cell_type": "markdown",
   "metadata": {},
   "source": [
    "# hand pose"
   ]
  },
  {
   "cell_type": "code",
   "execution_count": 3,
   "metadata": {},
   "outputs": [],
   "source": [
    "detector = Detector('hand2_yolov8n', 'cpu', 0)\n",
    "pose_detector = PoseDetector('hand', 'cpu', 0)"
   ]
  },
  {
   "cell_type": "code",
   "execution_count": null,
   "metadata": {},
   "outputs": [],
   "source": [
    "import cv2\n",
    "\n",
    "def draw_labels(frame, bbox):\n",
    "        [left, top, right, bottom] = bbox[0:4].astype(int)\n",
    "        # coco数据集标签对应的颜色\n",
    "        cv2.rectangle(frame, (left, top), (right, bottom), (0, 0, 255), 1)"
   ]
  },
  {
   "cell_type": "code",
   "execution_count": 53,
   "metadata": {},
   "outputs": [
    {
     "name": "stdout",
     "output_type": "stream",
     "text": [
      "[[[407 146]\n",
      "  [400 237]\n",
      "  [398 218]\n",
      "  [410 194]\n",
      "  [405 168]\n",
      "  [264 245]\n",
      "  [297 223]\n",
      "  [324 206]\n",
      "  [355 180]\n",
      "  [235 237]\n",
      "  [266 211]\n",
      "  [297 187]\n",
      "  [333 163]\n",
      "  [228 211]\n",
      "  [259 192]\n",
      "  [292 170]\n",
      "  [324 151]\n",
      "  [232 175]\n",
      "  [261 166]\n",
      "  [280 158]\n",
      "  [319 146]]]\n"
     ]
    },
    {
     "data": {
      "text/plain": [
       "True"
      ]
     },
     "execution_count": 53,
     "metadata": {},
     "output_type": "execute_result"
    }
   ],
   "source": [
    "img = cv2.imread('test.jpg')\n",
    "\n",
    "bboxes, label, _ = detector(img)\n",
    "\n",
    "[left, top, right, bottom] = bboxes[0][0:4].astype(int)\n",
    "\n",
    "\n",
    "result = pose_detector(img, bboxes[..., :4])\n",
    "\n",
    "scores = result[..., 2]\n",
    "keypoints = (result[..., :2]).astype(int)\n",
    "\n",
    "print(keypoints)\n",
    "\n",
    "skeleton = [(1, 0), (1, 2), (2, 3), (3, 4), (5, 0), \n",
    "            (5, 6), (6, 7), (7, 8), (12, 0), \n",
    "            (9, 10), (10, 11), (11, 12), (16, 0), \n",
    "            (13, 14), (14, 15), (15, 16), (20, 0), \n",
    "            (17, 18), (18, 19), (19, 20)]\n",
    "\n",
    "for kpts, score in zip(keypoints, scores):\n",
    "\n",
    "  for (u,v) in skeleton:\n",
    "    cv2.line(img, (kpts[u][0], kpts[u][1]), (kpts[v][0], kpts[v][1]), (0, 255, 0), 1, cv2.LINE_AA)\n",
    "\n",
    "  for kpt in range(len(kpts)):\n",
    "    if kpt == 0:\n",
    "      cv2.circle(img, kpts[kpt], 1, (255, 0, 0), 2, cv2.LINE_AA)\n",
    "    else:\n",
    "      cv2.circle(img, kpts[kpt], 1, (0, 0, 255), 2, cv2.LINE_AA)\n",
    "\n",
    "cv2.imwrite('pose.jpg', img)"
   ]
  },
  {
   "attachments": {},
   "cell_type": "markdown",
   "metadata": {},
   "source": [
    "# whole body"
   ]
  },
  {
   "cell_type": "code",
   "execution_count": 4,
   "metadata": {},
   "outputs": [],
   "source": [
    "detector = Detector('yolov8', 'cpu', 0)\n",
    "pose_detector = PoseDetector('wholebody', 'cpu', 0)"
   ]
  },
  {
   "cell_type": "code",
   "execution_count": 19,
   "metadata": {},
   "outputs": [],
   "source": [
    "def visualize(frame, keypoints, thr=0.0):\n",
    "        skeleton = [(15, 13), (13, 11), (16, 14), (14, 12), (11, 12), (5, 11),\n",
    "                    (6, 12), (5, 6), (5, 7), (6, 8), (7, 9), (8, 10), (1, 2),\n",
    "                    (0, 1), (0, 2), (1, 3), (2, 4), (3, 5), (4, 6)]\n",
    "        palette = [(255, 128, 0), (255, 153, 51), (255, 178, 102), (230, 230, 0),\n",
    "                (255, 153, 255), (153, 204, 255), (255, 102, 255),\n",
    "                (255, 51, 255), (102, 178, 255),\n",
    "                (51, 153, 255), (255, 153, 153), (255, 102, 102), (255, 51, 51),\n",
    "                (153, 255, 153), (102, 255, 102), (51, 255, 51), (0, 255, 0),\n",
    "                (0, 0, 255), (255, 0, 0), (255, 255, 255)]\n",
    "        link_color = [\n",
    "            0, 0, 0, 0, 7, 7, 7, 9, 9, 9, 9, 9, 16, 16, 16, 16, 16, 16, 16\n",
    "        ]\n",
    "        point_color = [16, 16, 16, 16, 16, 9, 9, 9, 9, 9, 9, 0, 0, 0, 0, 0, 0]\n",
    "\n",
    "        scores = keypoints[..., 2]\n",
    "        keypoints = keypoints[..., :2].astype(int)\n",
    "\n",
    "        for kpts, score in zip(keypoints, scores):\n",
    "            show = [0] * len(kpts)\n",
    "            for (u, v), color in zip(skeleton, link_color):\n",
    "                if score[u] > thr and score[v] > thr:\n",
    "                    cv2.line(frame, kpts[u], tuple(kpts[v]), palette[color], 1,\n",
    "                            cv2.LINE_AA)\n",
    "                    show[u] = show[v] = 1\n",
    "            for kpt, show, color in zip(kpts, show, point_color):\n",
    "                if show:\n",
    "                    cv2.circle(frame, kpt, 1, palette[color], 2, cv2.LINE_AA)\n",
    "\n",
    "def visualize_hand(frame, keypoints, thr=0.0):\n",
    "        skeleton = [(0, 1), (1, 2), (2, 3), (3, 4), (0, 5), (5, 6), (6, 7),\n",
    "                    (7, 8), (0, 9), (9, 10), (10, 11), (11, 12), (0, 13),\n",
    "                    (13, 14), (14, 15), (15, 16), (0, 17), (17, 18), (18, 19),\n",
    "                    (19, 20)]\n",
    "        palette = [(255, 128, 0), (255, 153, 51), (255, 178, 102), (230, 230, 0),\n",
    "                (255, 153, 255), (153, 204, 255), (255, 102, 255),\n",
    "                (255, 51, 255), (102, 178, 255),\n",
    "                (51, 153, 255), (255, 153, 153), (255, 102, 102), (255, 51, 51),\n",
    "                (153, 255, 153), (102, 255, 102), (51, 255, 51), (0, 255, 0),\n",
    "                (0, 0, 255), (255, 0, 0), (255, 255, 255)]\n",
    "        link_color = [\n",
    "            0, 0, 0, 0, 7, 7, 7, 7, 9, 9, 9, 9, 16, 16, 16, 16, 16, 16, 16\n",
    "        ]\n",
    "        point_color = [16, 16, 16, 16, 16, 9, 9, 9, 9, 9, 9, 0, 0, 0, 0, 0, 0]\n",
    "\n",
    "\n",
    "        scores = keypoints[..., 2]\n",
    "        keypoints = keypoints[..., :2].astype(int)\n",
    "\n",
    "        for kpts, score in zip(keypoints, scores):\n",
    "            show = [0] * len(kpts)\n",
    "            for (u, v), color in zip(skeleton, link_color):\n",
    "                if score[u] > thr and score[v] > thr:\n",
    "                    cv2.line(frame, kpts[u], tuple(kpts[v]), palette[color], 1,\n",
    "                            cv2.LINE_AA)\n",
    "                    show[u] = show[v] = 1\n",
    "            for kpt, show, color in zip(kpts, show, point_color):\n",
    "                if show:\n",
    "                    cv2.circle(frame, kpt, 1, palette[color], 2, cv2.LINE_AA)"
   ]
  },
  {
   "cell_type": "code",
   "execution_count": 20,
   "metadata": {},
   "outputs": [
    {
     "data": {
      "text/plain": [
       "True"
      ]
     },
     "execution_count": 20,
     "metadata": {},
     "output_type": "execute_result"
    }
   ],
   "source": [
    "import cv2\n",
    "\n",
    "img = cv2.imread('whole_body3.jpg')\n",
    "\n",
    "bboxes, label, _ = detector(img)\n",
    "\n",
    "result = pose_detector(img, bboxes[1, :4])\n",
    "scores = result[..., 2]\n",
    "keypoints = (result[..., :2]).astype(int)\n",
    "\n",
    "for  kpts, score in zip(keypoints, scores):\n",
    "  for kpt in range(len(kpts)):\n",
    "    if kpt >=23 and kpt <= 95:\n",
    "      cv2.circle(img, kpts[kpt], 1, (255, 0, 0), 8, cv2.LINE_AA)\n",
    "        # elif kpt >= 0 and kpt <= 16:\n",
    "        #   cv2.circle(img, kpts[kpt], 1, (0, 255, 0), 8, cv2.LINE_AA)\n",
    "        # elif kpt >= 91 and kpt <= 111:\n",
    "        #   cv2.circle(img, kpts[kpt], 1, (0, 0, 255), 8, cv2.LINE_AA)\n",
    "        # elif kpt >= 112 and kpt <= 132:\n",
    "        #   cv2.circle(img, kpts[kpt], 1, (255, 0, 255), 8, cv2.LINE_AA)  \n",
    "\n",
    "visualize(img, keypoints=result[:,:17,:])\n",
    "visualize_hand(img, keypoints=result[:,91:112,:])\n",
    "visualize_hand(img, keypoints=result[:,112:133,:])\n",
    "cv2.imwrite('whole_body_pose3.jpg', img)"
   ]
  }
 ],
 "metadata": {
  "kernelspec": {
   "display_name": "pyside6",
   "language": "python",
   "name": "python3"
  },
  "language_info": {
   "codemirror_mode": {
    "name": "ipython",
    "version": 3
   },
   "file_extension": ".py",
   "mimetype": "text/x-python",
   "name": "python",
   "nbconvert_exporter": "python",
   "pygments_lexer": "ipython3",
   "version": "3.8.16"
  },
  "orig_nbformat": 4
 },
 "nbformat": 4,
 "nbformat_minor": 2
}
